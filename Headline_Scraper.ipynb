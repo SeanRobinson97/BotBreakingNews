{
 "cells": [
  {
   "cell_type": "code",
   "execution_count": 1,
   "metadata": {},
   "outputs": [],
   "source": [
    "from selenium import webdriver\n",
    "from bs4 import BeautifulSoup"
   ]
  },
  {
   "cell_type": "code",
   "execution_count": 2,
   "metadata": {},
   "outputs": [],
   "source": [
    "pages = [\"uk\",\"northern_ireland\",\"scotland\",\"england\",\"wales\",\"stories\"\n",
    "         ,\"science_and_environment\",\"health\",\"world\",\"technology\",\"coronavirus\"\n",
    "         ,\"world/us_and_canada\",\"business\",\"reality_check\",\"\"]\n",
    "\n",
    "headlines_list = []\n",
    "\n",
    "driver = webdriver.Chrome(executable_path=r\"C:\\Users\\seanr\\Documents\\Python_Scripts\\Markov_Chain\\chromedriver.exe\")"
   ]
  },
  {
   "cell_type": "code",
   "execution_count": 3,
   "metadata": {},
   "outputs": [],
   "source": [
    "for page in pages:\n",
    "    driver.get(\"https://www.bbc.com/news/\"  + str(page))\n",
    "    soup = BeautifulSoup(driver.page_source, 'html.parser')\n",
    "    headlines = soup.find_all('h3', class_ = \"gs-c-promo-heading__title gel-pica-bold nw-o-link-split__text\")\n",
    "\n",
    "    for i in range(len(headlines)):\n",
    "        temp = headlines[i].get_text()\n",
    "        headlines_list.append(temp)"
   ]
  },
  {
   "cell_type": "code",
   "execution_count": 4,
   "metadata": {},
   "outputs": [],
   "source": [
    "for i in range(len(headlines_list)):\n",
    "    headlines_list[i] = headlines_list[i]+\".\""
   ]
  },
  {
   "cell_type": "code",
   "execution_count": 5,
   "metadata": {},
   "outputs": [],
   "source": [
    "#Append the latests to headlines.txt\n",
    "import io\n",
    "\n",
    "with io.open(\"headlines.txt\", \"a\", encoding=\"utf-8\") as f:\n",
    "    f.write(\"\\n\")\n",
    "    f.write(str(headlines_list))"
   ]
  },
  {
   "cell_type": "code",
   "execution_count": 6,
   "metadata": {},
   "outputs": [
    {
     "name": "stdout",
     "output_type": "stream",
     "text": [
      "874\n"
     ]
    }
   ],
   "source": [
    "#Open headlines and remove duplicates\n",
    "file = open('headlines.txt', 'r')\n",
    "result = [line.split(',') for line in file.readlines()]\n",
    "\n",
    "final_list = []\n",
    "\n",
    "for i in range(len(result)):\n",
    "    for j in range(len(result[i])):\n",
    "        final_list.append(result[i][j])\n",
    "\n",
    "mylist = list(dict.fromkeys(final_list))\n",
    "print(len(mylist))\n",
    "\n",
    "#Write to a clean file\n",
    "with io.open(\"headlines_cleaned.txt\", \"w\", encoding=\"utf-8\") as f:\n",
    "    f.write(str(mylist))"
   ]
  },
  {
   "cell_type": "code",
   "execution_count": null,
   "metadata": {},
   "outputs": [],
   "source": []
  },
  {
   "cell_type": "code",
   "execution_count": null,
   "metadata": {},
   "outputs": [],
   "source": []
  }
 ],
 "metadata": {
  "kernelspec": {
   "display_name": "Python 3",
   "language": "python",
   "name": "python3"
  },
  "language_info": {
   "codemirror_mode": {
    "name": "ipython",
    "version": 3
   },
   "file_extension": ".py",
   "mimetype": "text/x-python",
   "name": "python",
   "nbconvert_exporter": "python",
   "pygments_lexer": "ipython3",
   "version": "3.7.6"
  }
 },
 "nbformat": 4,
 "nbformat_minor": 4
}
