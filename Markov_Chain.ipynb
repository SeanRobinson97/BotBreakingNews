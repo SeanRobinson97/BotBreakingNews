{
 "cells": [
  {
   "cell_type": "code",
   "execution_count": 1,
   "metadata": {},
   "outputs": [
    {
     "name": "stderr",
     "output_type": "stream",
     "text": [
      "ERROR:root:File `'./Headline_Scraper.py'` not found.\n"
     ]
    }
   ],
   "source": [
    "%run ./Headline_Scraper.ipynb"
   ]
  },
  {
   "cell_type": "code",
   "execution_count": 1,
   "metadata": {},
   "outputs": [],
   "source": [
    "import numpy as np\n",
    "from numpy import random\n",
    "temp = open('headlines_cleaned.txt', encoding='utf8').read()"
   ]
  },
  {
   "cell_type": "code",
   "execution_count": 2,
   "metadata": {},
   "outputs": [],
   "source": [
    "corpus_temp = temp.split(\" \")"
   ]
  },
  {
   "cell_type": "code",
   "execution_count": 3,
   "metadata": {},
   "outputs": [],
   "source": [
    "corpus = []\n",
    "\n",
    "for i in range(len(corpus_temp)):\n",
    "    list_temp = corpus_temp[i].strip(\"\"\"[]\\/ ' \"\" & ; \"\"\")\n",
    "    corpus.append(list_temp)"
   ]
  },
  {
   "cell_type": "code",
   "execution_count": 4,
   "metadata": {},
   "outputs": [],
   "source": [
    "def make_pairs(corpus):\n",
    "    for i in range(len(corpus)-1):\n",
    "        yield (corpus[i], corpus[i+1])\n",
    "\n",
    "pairs = make_pairs(corpus)\n",
    "\n",
    "word_dict = {}\n",
    "\n",
    "for word_1, word_2 in pairs:\n",
    "    if word_1 in word_dict.keys():\n",
    "        word_dict[word_1].append(word_2)\n",
    "    else:\n",
    "        word_dict[word_1] = [word_2]\n",
    "\n",
    "def yield_sentence():\n",
    "    first_word = np.random.choice(corpus)\n",
    "\n",
    "    while first_word.islower():\n",
    "        first_word = np.random.choice(corpus)\n",
    "\n",
    "    chain = [first_word]\n",
    "\n",
    "    n_words = random.randint(10,25)\n",
    "\n",
    "    for i in range(n_words):\n",
    "\n",
    "        next_word = np.random.choice(word_dict[chain[-1]])\n",
    "        chain.append(next_word)\n",
    "        \n",
    "        try:\n",
    "            if chain[0][-1] in \"\"\"|.|?|!|,|:|-'|\"\"\":\n",
    "                break\n",
    "        except:\n",
    "            break\n",
    "\n",
    "        try:\n",
    "            if chain[-1][-1] in \"\"\".|?|!|, \"\"\":\n",
    "                break\n",
    "        except:\n",
    "            break\n",
    "\n",
    "    sentence = ' '.join(chain)\n",
    "    \n",
    "    return sentence"
   ]
  },
  {
   "cell_type": "code",
   "execution_count": 237,
   "metadata": {
    "scrolled": true
   },
   "outputs": [],
   "source": [
    "while True:\n",
    "    phrase = yield_sentence()\n",
    "    if len(phrase) > 30:\n",
    "        break\n",
    "        \n",
    "if phrase[-1] == \",\" or phrase[-1]== \"'\":\n",
    "    phrase = phrase [:-1]"
   ]
  },
  {
   "cell_type": "code",
   "execution_count": 238,
   "metadata": {},
   "outputs": [
    {
     "name": "stdout",
     "output_type": "stream",
     "text": [
      "BREAKING: When will poor countries get them?\n"
     ]
    }
   ],
   "source": [
    "print(\"\"\"BREAKING:\"\"\",phrase.strip(\"\"\" \"\"‘’.''/ '\\'\"\"\"))"
   ]
  },
  {
   "cell_type": "code",
   "execution_count": null,
   "metadata": {},
   "outputs": [],
   "source": []
  },
  {
   "cell_type": "code",
   "execution_count": null,
   "metadata": {},
   "outputs": [],
   "source": []
  }
 ],
 "metadata": {
  "kernelspec": {
   "display_name": "Python 3",
   "language": "python",
   "name": "python3"
  },
  "language_info": {
   "codemirror_mode": {
    "name": "ipython",
    "version": 3
   },
   "file_extension": ".py",
   "mimetype": "text/x-python",
   "name": "python",
   "nbconvert_exporter": "python",
   "pygments_lexer": "ipython3",
   "version": "3.7.6"
  }
 },
 "nbformat": 4,
 "nbformat_minor": 4
}
